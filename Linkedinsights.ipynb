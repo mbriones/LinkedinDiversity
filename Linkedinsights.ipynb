{
 "cells": [
  {
   "cell_type": "code",
   "execution_count": null,
   "metadata": {
    "collapsed": true
   },
   "outputs": [],
   "source": [
    "import pandas as pd\n",
    "import sklearn\n",
    "import numpy as np\n",
    "import matplotlib as matplot\n",
    "import seaborn as sns"
   ]
  },
  {
   "cell_type": "code",
   "execution_count": null,
   "metadata": {
    "collapsed": true
   },
   "outputs": [],
   "source": [
    "pd.set_option('display.max_colwidth', -1)"
   ]
  },
  {
   "cell_type": "code",
   "execution_count": null,
   "metadata": {},
   "outputs": [],
   "source": [
    "googledatasci = pd.read_csv(\"Datasets/googledatasci.csv\")\n",
    "del googledatasci['Unnamed: 0']\n",
    "googledatasci.drop(googledatasci.index[9])\n",
    "#googledatasci['jobs'].str.strip()\n",
    "googledatasci"
   ]
  },
  {
   "cell_type": "code",
   "execution_count": null,
   "metadata": {},
   "outputs": [],
   "source": [
    "print (type(googledatasci.loc[9, 'jobs']))"
   ]
  },
  {
   "cell_type": "code",
   "execution_count": null,
   "metadata": {},
   "outputs": [],
   "source": [
    "linkedinCertifications = linkedin['certifications'].str.split(';', expand=True).rename(columns = lambda x: \"certifications\"+str(x+1))\n",
    "linkedinCertifications"
   ]
  },
  {
   "cell_type": "code",
   "execution_count": null,
   "metadata": {},
   "outputs": [],
   "source": [
    "linkedinCompanyfollow = linkedin['companiesFollowing'].str.split(';', expand=True).rename(columns = lambda x: \"companiesFollowing\"+str(x+1))\n",
    "linkedinCompanyfollow"
   ]
  },
  {
   "cell_type": "code",
   "execution_count": null,
   "metadata": {},
   "outputs": [],
   "source": [
    "linkedinCourses = linkedin['courses'].str.split(';', expand=True).rename(columns = lambda x: \"courses\"+str(x+1))\n",
    "linkedinCourses"
   ]
  },
  {
   "cell_type": "code",
   "execution_count": null,
   "metadata": {},
   "outputs": [],
   "source": [
    "linkedinEducation = linkedin['education'].str.split(';', expand=True).rename(columns = lambda x: \"education\"+str(x+1))\n",
    "linkedinEducation"
   ]
  },
  {
   "cell_type": "code",
   "execution_count": null,
   "metadata": {},
   "outputs": [],
   "source": [
    "linkedinEndor = linkedin['endor'].str.split(';', expand=True).rename(columns = lambda x: \"endor\"+str(x+1))\n",
    "linkedinEndor"
   ]
  },
  {
   "cell_type": "code",
   "execution_count": null,
   "metadata": {},
   "outputs": [],
   "source": [
    "linkedinJobs = linkedin['jobs'].str.split(';', expand=True).rename(columns = lambda x: \"jobs\"+str(x+1))\n",
    "linkedinJobs"
   ]
  },
  {
   "cell_type": "code",
   "execution_count": null,
   "metadata": {
    "collapsed": true
   },
   "outputs": [],
   "source": []
  }
 ],
 "metadata": {
  "kernelspec": {
   "display_name": "Python 3",
   "language": "python",
   "name": "python3"
  },
  "language_info": {
   "codemirror_mode": {
    "name": "ipython",
    "version": 3
   },
   "file_extension": ".py",
   "mimetype": "text/x-python",
   "name": "python",
   "nbconvert_exporter": "python",
   "pygments_lexer": "ipython3",
   "version": "3.6.2"
  }
 },
 "nbformat": 4,
 "nbformat_minor": 2
}
